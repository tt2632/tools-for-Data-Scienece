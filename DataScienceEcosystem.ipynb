{
 "cells": [
  {
   "cell_type": "markdown",
   "id": "ce632e2d",
   "metadata": {},
   "source": [
    "# Data Scienece Tools and Ecosystem\n",
    "in this note book data science tools are summarized\n",
    "\n",
    "some of the popular languages that Data Scientist uses are:\n",
    "\n",
    "1. R\n",
    "2. Jula\n",
    "3. Python\n",
    "4. Sql\n",
    "5. C++\n",
    "\n",
    "Some of the commonly used libraries are:\n",
    "\n",
    "1. Numpy\n",
    "2. Seaborn\n",
    "3. Pandas\n",
    "4. Vegas"
   ]
  },
  {
   "cell_type": "markdown",
   "id": "a9c90c9d",
   "metadata": {},
   "source": [
    "|Data Science Tools | \n",
    "|-----|\n",
    "|Anaconda|\n",
    "|R Studion |\n",
    "|Spyder|"
   ]
  },
  {
   "cell_type": "markdown",
   "id": "98258707",
   "metadata": {},
   "source": [
    "Below are the few examples of evaluationg Arthematic expressions in Python:"
   ]
  },
  {
   "cell_type": "code",
   "execution_count": 1,
   "id": "531c4d5f",
   "metadata": {},
   "outputs": [
    {
     "data": {
      "text/plain": [
       "17"
      ]
     },
     "execution_count": 1,
     "metadata": {},
     "output_type": "execute_result"
    }
   ],
   "source": [
    "(5*3)+2"
   ]
  },
  {
   "cell_type": "code",
   "execution_count": 2,
   "id": "f2a90832",
   "metadata": {},
   "outputs": [
    {
     "data": {
      "text/plain": [
       "3.0"
      ]
     },
     "execution_count": 2,
     "metadata": {},
     "output_type": "execute_result"
    }
   ],
   "source": [
    "#this will convert 180 min to hours by dividing with 60\n",
    "180/60"
   ]
  },
  {
   "cell_type": "markdown",
   "id": "0133d5e2",
   "metadata": {},
   "source": [
    "# objectives: \n",
    "List popular languages for Data Science:\n",
    "\n",
    "1. R\n",
    "2. SQL\n",
    "3. Scala\n",
    "4. Python"
   ]
  },
  {
   "cell_type": "markdown",
   "id": "4eca76a3",
   "metadata": {},
   "source": [
    "# Author:\n",
    "\n",
    "Thangala Nithin Kumar Reddy"
   ]
  },
  {
   "cell_type": "code",
   "execution_count": null,
   "id": "881a0618",
   "metadata": {},
   "outputs": [],
   "source": []
  }
 ],
 "metadata": {
  "kernelspec": {
   "display_name": "Python 3 (ipykernel)",
   "language": "python",
   "name": "python3"
  },
  "language_info": {
   "codemirror_mode": {
    "name": "ipython",
    "version": 3
   },
   "file_extension": ".py",
   "mimetype": "text/x-python",
   "name": "python",
   "nbconvert_exporter": "python",
   "pygments_lexer": "ipython3",
   "version": "3.11.4"
  }
 },
 "nbformat": 4,
 "nbformat_minor": 5
}
